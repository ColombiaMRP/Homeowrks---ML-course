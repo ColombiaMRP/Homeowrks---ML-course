{
 "cells": [
  {
   "cell_type": "markdown",
   "id": "45a62ea2",
   "metadata": {},
   "source": [
    "### Question 1"
   ]
  },
  {
   "cell_type": "markdown",
   "id": "b1a4da4d",
   "metadata": {},
   "source": [
    "the version is: 2023.10.3"
   ]
  },
  {
   "cell_type": "markdown",
   "id": "02d96783",
   "metadata": {},
   "source": [
    "### Question 2"
   ]
  },
  {
   "cell_type": "markdown",
   "id": "581ba8b7",
   "metadata": {},
   "source": [
    "The first hash is:\n",
    "\n",
    "\"sha256\": \"e0d12a0331eb3926e2e7c7c37be9118ab3619b518475b3c3897cdb40da98d9d9\""
   ]
  },
  {
   "cell_type": "markdown",
   "id": "dd7dddca",
   "metadata": {},
   "source": [
    "### Question 3"
   ]
  },
  {
   "cell_type": "markdown",
   "id": "a0b38c98",
   "metadata": {},
   "source": [
    "0.9019309332297606"
   ]
  },
  {
   "cell_type": "markdown",
   "id": "5a2b69c1",
   "metadata": {},
   "source": [
    "### Question 4"
   ]
  },
  {
   "cell_type": "markdown",
   "id": "504d44c7",
   "metadata": {},
   "source": [
    "0.140"
   ]
  },
  {
   "cell_type": "markdown",
   "id": "3358c44c",
   "metadata": {},
   "source": [
    "### Question 5"
   ]
  },
  {
   "cell_type": "markdown",
   "id": "d97d0866",
   "metadata": {},
   "source": [
    "147 MB"
   ]
  },
  {
   "cell_type": "markdown",
   "id": "06706dca",
   "metadata": {},
   "source": [
    "### Question 6"
   ]
  },
  {
   "cell_type": "markdown",
   "id": "d492a45a",
   "metadata": {},
   "source": [
    "0.90"
   ]
  }
 ],
 "metadata": {
  "kernelspec": {
   "display_name": "Python 3 (ipykernel)",
   "language": "python",
   "name": "python3"
  },
  "language_info": {
   "codemirror_mode": {
    "name": "ipython",
    "version": 3
   },
   "file_extension": ".py",
   "mimetype": "text/x-python",
   "name": "python",
   "nbconvert_exporter": "python",
   "pygments_lexer": "ipython3",
   "version": "3.11.4"
  }
 },
 "nbformat": 4,
 "nbformat_minor": 5
}
