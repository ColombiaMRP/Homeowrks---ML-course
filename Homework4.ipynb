{
 "cells": [
  {
   "cell_type": "code",
   "execution_count": 2,
   "id": "f32cd885",
   "metadata": {},
   "outputs": [],
   "source": [
    "import wget\n",
    "import pandas as pd\n",
    "import numpy as np\n",
    "\n",
    "import seaborn as sns\n",
    "from matplotlib import pyplot as plt\n",
    "%matplotlib inline"
   ]
  },
  {
   "cell_type": "code",
   "execution_count": 101,
   "id": "df63f8dd",
   "metadata": {},
   "outputs": [],
   "source": [
    "from sklearn.model_selection import train_test_split\n",
    "from sklearn.feature_extraction import DictVectorizer\n",
    "from sklearn.linear_model import LogisticRegression\n",
    "from sklearn.metrics import accuracy_score\n",
    "from sklearn.metrics import roc_curve\n",
    "from sklearn.metrics import auc\n",
    "from sklearn.metrics import roc_auc_score\n",
    "from sklearn.model_selection import KFold"
   ]
  },
  {
   "cell_type": "code",
   "execution_count": 4,
   "id": "13f96e7a",
   "metadata": {},
   "outputs": [
    {
     "name": "stdout",
     "output_type": "stream",
     "text": [
      "100% [..........................................................................] 1475504 / 1475504"
     ]
    }
   ],
   "source": [
    "data= \"https://raw.githubusercontent.com/alexeygrigorev/mlbookcamp-code/master/chapter-02-car-price/data.csv\"\n",
    "data= wget.download(data)\n",
    "df= pd.read_csv(data)"
   ]
  },
  {
   "cell_type": "markdown",
   "id": "80da2e36",
   "metadata": {},
   "source": [
    "# Preparing the dataset"
   ]
  },
  {
   "cell_type": "code",
   "execution_count": 5,
   "id": "b71ab811",
   "metadata": {},
   "outputs": [],
   "source": [
    "df2 = df.copy()\n",
    "df2= df[[\"Make\",\"Model\",\"Year\",\"Engine HP\",\"Engine Cylinders\",\"Transmission Type\",\"Vehicle Style\",\"highway MPG\",\"city mpg\",\"MSRP\"]]"
   ]
  },
  {
   "cell_type": "code",
   "execution_count": 6,
   "id": "42f8880c",
   "metadata": {},
   "outputs": [],
   "source": [
    "df2.columns = df2.columns.str.lower().str.replace(' ', '_')"
   ]
  },
  {
   "cell_type": "code",
   "execution_count": 7,
   "id": "d2975398",
   "metadata": {},
   "outputs": [],
   "source": [
    "df2 = df2.fillna(0)"
   ]
  },
  {
   "cell_type": "code",
   "execution_count": 25,
   "id": "d48e0224",
   "metadata": {},
   "outputs": [],
   "source": [
    "df2[\"above_average\"] = pd.Series(np.where(df2.msrp>df2.msrp.mean(),1,0))"
   ]
  },
  {
   "cell_type": "code",
   "execution_count": 68,
   "id": "90559806",
   "metadata": {},
   "outputs": [],
   "source": [
    "df2_train_full, df2_test = train_test_split(df2, test_size=0.2, random_state=1)\n",
    "df2_train, df2_val = train_test_split(df2_train_full, test_size=0.25, random_state=1)\n",
    "\n",
    "y_train = df2_train.above_average.values\n",
    "y_val = df2_val.above_average.values\n",
    "y_test = df2_test.above_average.values\n",
    "\n",
    "\n",
    "#df2_train = df2_test.drop(columns=[\"above_average\",\"msrp\"],axis=1) NO SE PUEDEN USAR PORQUE ALTERAN FILAS\n",
    "#df2_val= df2_val.drop(columns=[\"above_average\",\"msrp\"],axis=1)\n",
    "#df2_test= df2_test.drop(columns=[\"above_average\",\"msrp\"],axis=1)\n",
    "\n",
    "del df2_train[\"above_average\"]\n",
    "del df2_train[\"msrp\"]\n",
    "del df2_val[\"above_average\"]\n",
    "del df2_val[\"msrp\"]\n",
    "del df2_test[\"above_average\"]\n",
    "del df2_test[\"msrp\"]\n",
    "#del df2_val[\"above_average\"]\n",
    "#del df2_test[\"above_average\"]"
   ]
  },
  {
   "cell_type": "markdown",
   "id": "6ef7eedc",
   "metadata": {},
   "source": [
    "### Question 1"
   ]
  },
  {
   "cell_type": "code",
   "execution_count": 110,
   "id": "972878e1",
   "metadata": {},
   "outputs": [],
   "source": [
    "numerical= [\"city_mpg\",\"highway_mpg\",\"engine_cylinders\",\"engine_hp\",\"year\"]\n",
    "categorical = [\"vehicle_style\",\"transmission_type\",\"model\",\"make\"]"
   ]
  },
  {
   "cell_type": "code",
   "execution_count": 89,
   "id": "d02f52bf",
   "metadata": {},
   "outputs": [
    {
     "name": "stdout",
     "output_type": "stream",
     "text": [
      " city_mpg, 0.673\n",
      "highway_mpg, 0.633\n",
      "engine_cylinders, 0.766\n",
      "engine_hp, 0.917\n",
      "     year, 0.688\n"
     ]
    }
   ],
   "source": [
    "for c in numerical:\n",
    "    auc = roc_auc_score(y_train, df2_train[c])\n",
    "    if auc < 0.5:\n",
    "        auc = roc_auc_score(y_train, -df2_train[c])\n",
    "    print('%9s, %.3f' % (c, auc))"
   ]
  },
  {
   "cell_type": "markdown",
   "id": "128cf090",
   "metadata": {},
   "source": [
    "The highest value is for engine_hp"
   ]
  },
  {
   "cell_type": "markdown",
   "id": "f12afbb0",
   "metadata": {},
   "source": [
    "### Question 2"
   ]
  },
  {
   "cell_type": "code",
   "execution_count": null,
   "id": "d01b669d",
   "metadata": {},
   "outputs": [],
   "source": [
    " cat = df[categorical + numerical].to_dict(orient='records')\n",
    "    \n",
    "    dv = DictVectorizer(sparse=False)\n",
    "    dv.fit(cat)\n",
    "\n",
    "    X = dv.transform(cat)\n",
    "\n",
    "    model = LogisticRegression(solver='liblinear')\n",
    "    model.fit(X, y)\n",
    "\n",
    "    return dv, model\n"
   ]
  },
  {
   "cell_type": "code",
   "execution_count": 72,
   "id": "67167edf",
   "metadata": {},
   "outputs": [
    {
     "data": {
      "text/plain": [
       "0.9802"
      ]
     },
     "execution_count": 72,
     "metadata": {},
     "output_type": "execute_result"
    }
   ],
   "source": [
    "train_dic2=df2_train.to_dict(orient='records')\n",
    "dv = DictVectorizer(sparse=False)\n",
    "X_train2 = dv.fit_transform(train_dic2)\n",
    "\n",
    "model = LogisticRegression(solver='liblinear', C=1.0, max_iter=1000)\n",
    "model.fit(X_train2, y_train)\n",
    "\n",
    "val_dict2 = df2_val.to_dict(orient='records')\n",
    "X_val2 = dv.transform(val_dict2)\n",
    "\n",
    "y_pred = model.predict_proba(X_val2)[:, 1]\n",
    "round(roc_auc_score(y_val,y_pred),4)"
   ]
  },
  {
   "cell_type": "markdown",
   "id": "76d0f57f",
   "metadata": {},
   "source": [
    "### Question 3"
   ]
  },
  {
   "cell_type": "code",
   "execution_count": 78,
   "id": "92a3dc94",
   "metadata": {},
   "outputs": [],
   "source": [
    "def tpr_fpr_dataframe(y_val, y_pred):\n",
    "    scores = []\n",
    "\n",
    "    thresholds = np.linspace(0, 1, 101)\n",
    "\n",
    "    for t in thresholds:\n",
    "        tp = ((y_pred >= t) & (y_val == 1)).sum()\n",
    "        fp = ((y_pred >= t) & (y_val == 0)).sum()\n",
    "        fn = ((y_pred < t) & (y_val == 1)).sum()\n",
    "        tn = ((y_pred < t) & (y_val == 0)).sum()\n",
    "\n",
    "        scores.append((t, tp, fp, fn, tn))\n",
    "\n",
    "    df_scores = pd.DataFrame(scores)\n",
    "    df_scores.columns = ['threshold', 'tp', 'fp', 'fn', 'tn']\n",
    "\n",
    "    df_scores['tpr'] = df_scores.tp / (df_scores.tp + df_scores.fn)\n",
    "    df_scores['fpr'] = df_scores.fp / (df_scores.fp + df_scores.tn)\n",
    "    df_scores['precision'] = df_scores.tp / (df_scores.tp + df_scores.fp)\n",
    "    df_scores['recall'] = df_scores.tp / (df_scores.tp + df_scores.fn)\n",
    "    \n",
    "\n",
    "    return df_scores"
   ]
  },
  {
   "cell_type": "code",
   "execution_count": 80,
   "id": "9f0c5959",
   "metadata": {},
   "outputs": [],
   "source": [
    "df_scores=tpr_fpr_dataframe(y_val, y_pred)"
   ]
  },
  {
   "cell_type": "code",
   "execution_count": 81,
   "id": "3321340c",
   "metadata": {},
   "outputs": [
    {
     "data": {
      "image/png": "[encoded data removed]",
      "text/plain": [
       "<Figure size 600x400 with 1 Axes>"
      ]
     },
     "metadata": {},
     "output_type": "display_data"
    }
   ],
   "source": [
    "plt.figure(figsize=(6, 4))\n",
    "\n",
    "plt.plot(df_scores.threshold, df_scores.precision, color='black', linestyle='solid', label='TPR')\n",
    "plt.plot(df_scores.threshold, df_scores.recall, color='black', linestyle='dashed', label='FPR')\n",
    "plt.legend()\n",
    "\n",
    "plt.xticks(np.linspace(0, 1, 11))\n",
    "plt.yticks(np.linspace(0, 1, 11))\n",
    "\n",
    "plt.xlabel('Thresholds')\n",
    "plt.title('Precision and Recall')\n",
    "\n",
    "# plt.savefig('04_fpr_tpr_plot.svg')\n",
    "\n",
    "plt.show()"
   ]
  },
  {
   "cell_type": "code",
   "execution_count": 91,
   "id": "45f08a3b",
   "metadata": {},
   "outputs": [
    {
     "data": {
      "text/html": [
       "<div>\n",
       "<style scoped>\n",
       "    .dataframe tbody tr th:only-of-type {\n",
       "        vertical-align: middle;\n",
       "    }\n",
       "\n",
       "    .dataframe tbody tr th {\n",
       "        vertical-align: top;\n",
       "    }\n",
       "\n",
       "    .dataframe thead th {\n",
       "        text-align: right;\n",
       "    }\n",
       "</style>\n",
       "<table border=\"1\" class=\"dataframe\">\n",
       "  <thead>\n",
       "    <tr style=\"text-align: right;\">\n",
       "      <th></th>\n",
       "      <th>threshold</th>\n",
       "      <th>tp</th>\n",
       "      <th>fp</th>\n",
       "      <th>fn</th>\n",
       "      <th>tn</th>\n",
       "      <th>tpr</th>\n",
       "      <th>fpr</th>\n",
       "      <th>precision</th>\n",
       "      <th>recall</th>\n",
       "    </tr>\n",
       "  </thead>\n",
       "  <tbody>\n",
       "    <tr>\n",
       "      <th>0</th>\n",
       "      <td>0.00</td>\n",
       "      <td>654</td>\n",
       "      <td>1729</td>\n",
       "      <td>0</td>\n",
       "      <td>0</td>\n",
       "      <td>1.000000</td>\n",
       "      <td>1.000000</td>\n",
       "      <td>0.274444</td>\n",
       "      <td>1.000000</td>\n",
       "    </tr>\n",
       "    <tr>\n",
       "      <th>1</th>\n",
       "      <td>0.01</td>\n",
       "      <td>652</td>\n",
       "      <td>784</td>\n",
       "      <td>2</td>\n",
       "      <td>945</td>\n",
       "      <td>0.996942</td>\n",
       "      <td>0.453441</td>\n",
       "      <td>0.454039</td>\n",
       "      <td>0.996942</td>\n",
       "    </tr>\n",
       "    <tr>\n",
       "      <th>2</th>\n",
       "      <td>0.02</td>\n",
       "      <td>651</td>\n",
       "      <td>642</td>\n",
       "      <td>3</td>\n",
       "      <td>1087</td>\n",
       "      <td>0.995413</td>\n",
       "      <td>0.371313</td>\n",
       "      <td>0.503480</td>\n",
       "      <td>0.995413</td>\n",
       "    </tr>\n",
       "    <tr>\n",
       "      <th>3</th>\n",
       "      <td>0.03</td>\n",
       "      <td>651</td>\n",
       "      <td>572</td>\n",
       "      <td>3</td>\n",
       "      <td>1157</td>\n",
       "      <td>0.995413</td>\n",
       "      <td>0.330827</td>\n",
       "      <td>0.532298</td>\n",
       "      <td>0.995413</td>\n",
       "    </tr>\n",
       "    <tr>\n",
       "      <th>4</th>\n",
       "      <td>0.04</td>\n",
       "      <td>650</td>\n",
       "      <td>495</td>\n",
       "      <td>4</td>\n",
       "      <td>1234</td>\n",
       "      <td>0.993884</td>\n",
       "      <td>0.286293</td>\n",
       "      <td>0.567686</td>\n",
       "      <td>0.993884</td>\n",
       "    </tr>\n",
       "    <tr>\n",
       "      <th>...</th>\n",
       "      <td>...</td>\n",
       "      <td>...</td>\n",
       "      <td>...</td>\n",
       "      <td>...</td>\n",
       "      <td>...</td>\n",
       "      <td>...</td>\n",
       "      <td>...</td>\n",
       "      <td>...</td>\n",
       "      <td>...</td>\n",
       "    </tr>\n",
       "    <tr>\n",
       "      <th>96</th>\n",
       "      <td>0.96</td>\n",
       "      <td>276</td>\n",
       "      <td>1</td>\n",
       "      <td>378</td>\n",
       "      <td>1728</td>\n",
       "      <td>0.422018</td>\n",
       "      <td>0.000578</td>\n",
       "      <td>0.996390</td>\n",
       "      <td>0.422018</td>\n",
       "    </tr>\n",
       "    <tr>\n",
       "      <th>97</th>\n",
       "      <td>0.97</td>\n",
       "      <td>252</td>\n",
       "      <td>1</td>\n",
       "      <td>402</td>\n",
       "      <td>1728</td>\n",
       "      <td>0.385321</td>\n",
       "      <td>0.000578</td>\n",
       "      <td>0.996047</td>\n",
       "      <td>0.385321</td>\n",
       "    </tr>\n",
       "    <tr>\n",
       "      <th>98</th>\n",
       "      <td>0.98</td>\n",
       "      <td>234</td>\n",
       "      <td>0</td>\n",
       "      <td>420</td>\n",
       "      <td>1729</td>\n",
       "      <td>0.357798</td>\n",
       "      <td>0.000000</td>\n",
       "      <td>1.000000</td>\n",
       "      <td>0.357798</td>\n",
       "    </tr>\n",
       "    <tr>\n",
       "      <th>99</th>\n",
       "      <td>0.99</td>\n",
       "      <td>192</td>\n",
       "      <td>0</td>\n",
       "      <td>462</td>\n",
       "      <td>1729</td>\n",
       "      <td>0.293578</td>\n",
       "      <td>0.000000</td>\n",
       "      <td>1.000000</td>\n",
       "      <td>0.293578</td>\n",
       "    </tr>\n",
       "    <tr>\n",
       "      <th>100</th>\n",
       "      <td>1.00</td>\n",
       "      <td>0</td>\n",
       "      <td>0</td>\n",
       "      <td>654</td>\n",
       "      <td>1729</td>\n",
       "      <td>0.000000</td>\n",
       "      <td>0.000000</td>\n",
       "      <td>NaN</td>\n",
       "      <td>0.000000</td>\n",
       "    </tr>\n",
       "  </tbody>\n",
       "</table>\n",
       "<p>101 rows × 9 columns</p>\n",
       "</div>"
      ],
      "text/plain": [
       "     threshold   tp    fp   fn    tn       tpr       fpr  precision    recall\n",
       "0         0.00  654  1729    0     0  1.000000  1.000000   0.274444  1.000000\n",
       "1         0.01  652   784    2   945  0.996942  0.453441   0.454039  0.996942\n",
       "2         0.02  651   642    3  1087  0.995413  0.371313   0.503480  0.995413\n",
       "3         0.03  651   572    3  1157  0.995413  0.330827   0.532298  0.995413\n",
       "4         0.04  650   495    4  1234  0.993884  0.286293   0.567686  0.993884\n",
       "..         ...  ...   ...  ...   ...       ...       ...        ...       ...\n",
       "96        0.96  276     1  378  1728  0.422018  0.000578   0.996390  0.422018\n",
       "97        0.97  252     1  402  1728  0.385321  0.000578   0.996047  0.385321\n",
       "98        0.98  234     0  420  1729  0.357798  0.000000   1.000000  0.357798\n",
       "99        0.99  192     0  462  1729  0.293578  0.000000   1.000000  0.293578\n",
       "100       1.00    0     0  654  1729  0.000000  0.000000        NaN  0.000000\n",
       "\n",
       "[101 rows x 9 columns]"
      ]
     },
     "execution_count": 91,
     "metadata": {},
     "output_type": "execute_result"
    }
   ],
   "source": [
    "df_scores"
   ]
  },
  {
   "cell_type": "code",
   "execution_count": 97,
   "id": "0c4c331d",
   "metadata": {},
   "outputs": [
    {
     "name": "stdout",
     "output_type": "stream",
     "text": [
      "Series([], Name: threshold, dtype: float64)\n"
     ]
    }
   ],
   "source": [
    "threshold = df_scores.loc[df_scores['precision'] == df_scores['recall'], 'threshold']\n",
    "print(threshold)"
   ]
  },
  {
   "cell_type": "markdown",
   "id": "d3ad58c5",
   "metadata": {},
   "source": [
    "The value where TPR and FRP are closest is near threshold=0,48"
   ]
  },
  {
   "cell_type": "markdown",
   "id": "825a9b62",
   "metadata": {},
   "source": [
    "### Question 4"
   ]
  },
  {
   "cell_type": "code",
   "execution_count": 98,
   "id": "8154b15f",
   "metadata": {},
   "outputs": [],
   "source": [
    "df_scores[\"F1\"]=(df_scores[\"precision\"]*df_scores[\"recall\"])/(df_scores[\"precision\"]+df_scores[\"recall\"])\n"
   ]
  },
  {
   "cell_type": "code",
   "execution_count": 100,
   "id": "04be99ea",
   "metadata": {},
   "outputs": [
    {
     "data": {
      "text/plain": [
       "0.51"
      ]
     },
     "execution_count": 100,
     "metadata": {},
     "output_type": "execute_result"
    }
   ],
   "source": [
    " df_scores.loc[df_scores[\"F1\"].idxmax(), 'threshold']"
   ]
  },
  {
   "cell_type": "markdown",
   "id": "83600b7a",
   "metadata": {},
   "source": [
    "### Question 5"
   ]
  },
  {
   "cell_type": "code",
   "execution_count": 102,
   "id": "68a10140",
   "metadata": {},
   "outputs": [],
   "source": [
    "def train(df, y):\n",
    "    cat = df[categorical + numerical].to_dict(orient='records')\n",
    "    \n",
    "    dv = DictVectorizer(sparse=False)\n",
    "    dv.fit(cat)\n",
    "\n",
    "    X = dv.transform(cat)\n",
    "\n",
    "    model = LogisticRegression(solver='liblinear', C=1.0, max_iter=1000)\n",
    "    model.fit(X, y)\n",
    "\n",
    "    return dv, model\n",
    "\n",
    "\n",
    "def predict(df, dv, model):\n",
    "    cat = df[categorical + numerical].to_dict(orient='records')\n",
    "    \n",
    "    X = dv.transform(cat)\n",
    "\n",
    "    y_pred = model.predict_proba(X)[:, 1]\n",
    "\n",
    "    return y_pred"
   ]
  },
  {
   "cell_type": "code",
   "execution_count": 132,
   "id": "a361513b",
   "metadata": {},
   "outputs": [],
   "source": [
    "kfold = KFold(n_splits=5, shuffle=True, random_state=1)"
   ]
  },
  {
   "cell_type": "code",
   "execution_count": 133,
   "id": "29f5d51b",
   "metadata": {},
   "outputs": [],
   "source": [
    "aucs = []\n",
    "\n",
    "for train_idx, val_idx in kfold.split(df2_train_full):\n",
    "    df_train = df2_train_full.iloc[train_idx]\n",
    "    y_train = df_train.above_average.values\n",
    "\n",
    "    df_val = df2_train_full.iloc[val_idx]\n",
    "    y_val = df_val.above_average.values\n",
    "\n",
    "    dv, model = train(df_train, y_train)\n",
    "    y_pred = predict(df_val, dv, model)\n",
    "\n",
    "    rocauc = roc_auc_score(y_val, y_pred)\n",
    "    aucs.append(rocauc)"
   ]
  },
  {
   "cell_type": "code",
   "execution_count": 134,
   "id": "c9788ed3",
   "metadata": {},
   "outputs": [
    {
     "name": "stdout",
     "output_type": "stream",
     "text": [
      "auc = 0.979 ± 0.002\n"
     ]
    }
   ],
   "source": [
    "print('auc = %0.3f ± %0.3f' % (np.mean(aucs), np.std(aucs)))"
   ]
  },
  {
   "cell_type": "markdown",
   "id": "8a4f430f",
   "metadata": {},
   "source": [
    "### Question 6"
   ]
  },
  {
   "cell_type": "code",
   "execution_count": 136,
   "id": "78fd9e36",
   "metadata": {},
   "outputs": [],
   "source": [
    "def train(df, y, C=1.0):\n",
    "    cat = df[categorical + numerical].to_dict(orient='records')\n",
    "    \n",
    "    dv = DictVectorizer(sparse=False)\n",
    "    dv.fit(cat)\n",
    "\n",
    "    X = dv.transform(cat)\n",
    "\n",
    "    model = LogisticRegression(solver='liblinear', C=C, max_iter=1000)\n",
    "    model.fit(X, y)\n",
    "\n",
    "    return dv, model"
   ]
  },
  {
   "cell_type": "code",
   "execution_count": 137,
   "id": "4d5e0f72",
   "metadata": {},
   "outputs": [
    {
     "name": "stdout",
     "output_type": "stream",
     "text": [
      "C=0.001, auc = 0.935 ± 0.003\n",
      "C=0.01, auc = 0.952 ± 0.002\n",
      "C=0.1, auc = 0.972 ± 0.002\n",
      "C=0.5, auc = 0.978 ± 0.003\n",
      "C=1, auc = 0.979 ± 0.002\n",
      "C=10, auc = 0.984 ± 0.003\n"
     ]
    }
   ],
   "source": [
    "nfolds = 5\n",
    "kfold = KFold(n_splits=nfolds, shuffle=True, random_state=1)\n",
    "\n",
    "for C in [0.001, 0.01, 0.1, 0.5, 1, 10]:\n",
    "    aucs = []\n",
    "\n",
    "    for train_idx, val_idx in kfold.split(df2_train_full):\n",
    "        df_train = df2_train_full.iloc[train_idx]\n",
    "        y_train = df_train.above_average.values\n",
    "\n",
    "        df_val = df2_train_full.iloc[val_idx]\n",
    "        y_val = df_val.above_average.values\n",
    "\n",
    "        dv, model = train(df_train, y_train, C=C)\n",
    "        y_pred = predict(df_val, dv, model)\n",
    "\n",
    "        rocauc = roc_auc_score(y_val, y_pred)\n",
    "        aucs.append(rocauc)\n",
    "\n",
    "    print('C=%s, auc = %0.3f ± %0.3f' % (C, np.mean(aucs), np.std(aucs)))"
   ]
  },
  {
   "cell_type": "markdown",
   "id": "39bf1cbc",
   "metadata": {},
   "source": [
    "The best value for C in terms of AUC is c=0,001"
   ]
  }
 ],
 "metadata": {
  "kernelspec": {
   "display_name": "Python 3 (ipykernel)",
   "language": "python",
   "name": "python3"
  },
  "language_info": {
   "codemirror_mode": {
    "name": "ipython",
    "version": 3
   },
   "file_extension": ".py",
   "mimetype": "text/x-python",
   "name": "python",
   "nbconvert_exporter": "python",
   "pygments_lexer": "ipython3",
   "version": "3.11.4"
  }
 },
 "nbformat": 4,
 "nbformat_minor": 5
}
