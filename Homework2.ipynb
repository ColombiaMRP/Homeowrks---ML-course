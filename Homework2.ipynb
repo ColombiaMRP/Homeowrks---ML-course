{
 "cells": [
  {
   "cell_type": "code",
   "execution_count": 6,
   "id": "f95458b5",
   "metadata": {},
   "outputs": [],
   "source": [
    "import wget\n",
    "import pandas as pd\n",
    "import numpy as np\n",
    "\n",
    "import seaborn as sns\n",
    "from matplotlib import pyplot as plt\n",
    "%matplotlib inline"
   ]
  },
  {
   "cell_type": "code",
   "execution_count": 41,
   "id": "daab61d9",
   "metadata": {},
   "outputs": [
    {
     "name": "stdout",
     "output_type": "stream",
     "text": [
      "100% [..........................................................................] 1423529 / 1423529"
     ]
    }
   ],
   "source": [
    "data= \"https://raw.githubusercontent.com/alexeygrigorev/datasets/master/housing.csv\"\n",
    "data= wget.download(data)\n",
    "df= pd.read_csv(data)"
   ]
  },
  {
   "cell_type": "code",
   "execution_count": 18,
   "id": "c35db184",
   "metadata": {},
   "outputs": [
    {
     "data": {
      "text/plain": [
       "longitude             20640\n",
       "latitude              20640\n",
       "housing_median_age    20640\n",
       "total_rooms           20640\n",
       "total_bedrooms        20433\n",
       "population            20640\n",
       "households            20640\n",
       "median_income         20640\n",
       "median_house_value    20640\n",
       "ocean_proximity       20640\n",
       "dtype: int64"
      ]
     },
     "execution_count": 18,
     "metadata": {},
     "output_type": "execute_result"
    }
   ],
   "source": [
    "df.count()"
   ]
  },
  {
   "cell_type": "code",
   "execution_count": 42,
   "id": "05474ce7",
   "metadata": {},
   "outputs": [],
   "source": [
    "df.columns = df.columns.str.lower().str.replace(' ', '_')"
   ]
  },
  {
   "cell_type": "code",
   "execution_count": 43,
   "id": "02a73c0a",
   "metadata": {},
   "outputs": [
    {
     "data": {
      "text/plain": [
       "longitude             float64\n",
       "latitude              float64\n",
       "housing_median_age    float64\n",
       "total_rooms           float64\n",
       "total_bedrooms        float64\n",
       "population            float64\n",
       "households            float64\n",
       "median_income         float64\n",
       "median_house_value    float64\n",
       "ocean_proximity        object\n",
       "dtype: object"
      ]
     },
     "execution_count": 43,
     "metadata": {},
     "output_type": "execute_result"
    }
   ],
   "source": [
    "df.dtypes"
   ]
  },
  {
   "cell_type": "markdown",
   "id": "064f4ad9",
   "metadata": {},
   "source": [
    "# Exploratory data analysis (EDA)"
   ]
  },
  {
   "cell_type": "code",
   "execution_count": 17,
   "id": "6da4ef27",
   "metadata": {
    "scrolled": true
   },
   "outputs": [
    {
     "data": {
      "image/png": "[encoded data removed]",
      "text/plain": [
       "<Figure size 600x400 with 1 Axes>"
      ]
     },
     "metadata": {},
     "output_type": "display_data"
    }
   ],
   "source": [
    "plt.figure(figsize=(6, 4))\n",
    "\n",
    "sns.histplot(df.median_house_value , bins=40, color='black', alpha=1)\n",
    "plt.ylabel('Frequency')\n",
    "plt.xlabel('Price')\n",
    "plt.title('Distribution of prices')\n",
    "\n",
    "plt.show()"
   ]
  },
  {
   "cell_type": "markdown",
   "id": "92023c19",
   "metadata": {},
   "source": [
    "The distribution has a right tail but it is not long"
   ]
  },
  {
   "cell_type": "markdown",
   "id": "f69798f9",
   "metadata": {},
   "source": [
    "# Preparing the dataset"
   ]
  },
  {
   "cell_type": "code",
   "execution_count": 56,
   "id": "2649f771",
   "metadata": {},
   "outputs": [],
   "source": [
    "df2 = df.copy()\n",
    "df2 = df2[(df2.ocean_proximity == \"INLAND\") | (df2.ocean_proximity == \"<1H OCEAN\")]\n",
    "df2 = df2[['latitude','longitude','housing_median_age','total_rooms','total_bedrooms','population','households'\\\n",
    "           ,'median_income','median_house_value']]\n"
   ]
  },
  {
   "cell_type": "markdown",
   "id": "afbb6f6c",
   "metadata": {},
   "source": [
    "### Question 1"
   ]
  },
  {
   "cell_type": "code",
   "execution_count": 57,
   "id": "63b1b753",
   "metadata": {},
   "outputs": [
    {
     "data": {
      "text/plain": [
       "latitude                0\n",
       "longitude               0\n",
       "housing_median_age      0\n",
       "total_rooms             0\n",
       "total_bedrooms        157\n",
       "population              0\n",
       "households              0\n",
       "median_income           0\n",
       "median_house_value      0\n",
       "dtype: int64"
      ]
     },
     "execution_count": 57,
     "metadata": {},
     "output_type": "execute_result"
    }
   ],
   "source": [
    "df2.isnull().sum()"
   ]
  },
  {
   "cell_type": "markdown",
   "id": "657f4822",
   "metadata": {},
   "source": [
    "### Question 2"
   ]
  },
  {
   "cell_type": "code",
   "execution_count": 61,
   "id": "899cd451",
   "metadata": {},
   "outputs": [
    {
     "data": {
      "text/plain": [
       "1195.0"
      ]
     },
     "execution_count": 61,
     "metadata": {},
     "output_type": "execute_result"
    }
   ],
   "source": [
    "df2.population.median()"
   ]
  },
  {
   "cell_type": "markdown",
   "id": "804c2925",
   "metadata": {},
   "source": [
    "### Question 3"
   ]
  },
  {
   "cell_type": "markdown",
   "id": "11735431",
   "metadata": {},
   "source": [
    "#### Preparation of data"
   ]
  },
  {
   "cell_type": "code",
   "execution_count": 103,
   "id": "0cea7b09",
   "metadata": {},
   "outputs": [],
   "source": [
    "np.random.seed(42)\n",
    "\n",
    "n = len(df2)\n",
    "\n",
    "n_val = int(0.2 * n)\n",
    "n_test = int(0.2 * n)\n",
    "n_train = n - (n_val + n_test)\n",
    "\n",
    "idx = np.arange(n) # Permits to create array from 0 to n\n",
    "np.random.shuffle(idx) #Randomly orders idx\n",
    "\n",
    "df_shuffled = df2.iloc[idx] # creates df shuffled\n",
    "\n",
    "df_train = df_shuffled.iloc[:n_train].copy()  # We can do it considering .iloc is positional and does not consider index\n",
    "df_val = df_shuffled.iloc[n_train:n_train+n_val].copy()\n",
    "df_test = df_shuffled.iloc[n_train+n_val:].copy()"
   ]
  },
  {
   "cell_type": "code",
   "execution_count": 104,
   "id": "6735565c",
   "metadata": {},
   "outputs": [],
   "source": [
    "y_train = np.log1p(df_train.median_house_value.values) # aplication of nplog+1. It is onnly applied to regressed variables\n",
    "y_val = np.log1p(df_val.median_house_value.values)\n",
    "y_test = np.log1p(df_test.median_house_value.values)\n",
    "\n",
    "del df_train['median_house_value'] # Delation of original value\n",
    "del df_val['median_house_value']\n",
    "del df_test['median_house_value']"
   ]
  },
  {
   "cell_type": "markdown",
   "id": "5a2a33f6",
   "metadata": {},
   "source": [
    "#### missing values dealing and functions preparing"
   ]
  },
  {
   "cell_type": "code",
   "execution_count": 88,
   "id": "f16d356a",
   "metadata": {},
   "outputs": [],
   "source": [
    "#df_train_zeros=df_train.fillna(0)\n",
    "#df_train_mean = df_train.copy()\n",
    "#df_train_mean.total_bedrooms.fillna(value=df_train.total_bedrooms.mean(),inplace=True)"
   ]
  },
  {
   "cell_type": "code",
   "execution_count": 95,
   "id": "77ce8c27",
   "metadata": {},
   "outputs": [],
   "source": [
    "def prepare_X_fill_0(df):\n",
    "    df_num = df.fillna(0)\n",
    "    X = df_num.values\n",
    "    return X"
   ]
  },
  {
   "cell_type": "code",
   "execution_count": 96,
   "id": "fbf94f27",
   "metadata": {},
   "outputs": [],
   "source": [
    "def prepare_X_fill_mean(df):\n",
    "    df_num = df.copy()\n",
    "    df_num.total_bedrooms.fillna(value=df_train.total_bedrooms.mean(),inplace=True)\n",
    "    X = df_num.values\n",
    "    return X"
   ]
  },
  {
   "cell_type": "code",
   "execution_count": 97,
   "id": "55512d49",
   "metadata": {},
   "outputs": [],
   "source": [
    "def train_linear_regression(X, y):\n",
    "    ones = np.ones(X.shape[0])\n",
    "    X = np.column_stack([ones, X])\n",
    "\n",
    "    XTX = X.T.dot(X)\n",
    "    XTX_inv = np.linalg.inv(XTX)\n",
    "    w = XTX_inv.dot(X.T).dot(y)\n",
    "    \n",
    "    return w[0], w[1:]"
   ]
  },
  {
   "cell_type": "code",
   "execution_count": 98,
   "id": "bcc3cb8e",
   "metadata": {},
   "outputs": [],
   "source": [
    "def rmse(y, y_pred):\n",
    "    error = y_pred - y\n",
    "    mse = (error ** 2).mean()\n",
    "    return np.sqrt(mse)"
   ]
  },
  {
   "cell_type": "markdown",
   "id": "cf95b6d7",
   "metadata": {},
   "source": [
    "#### Linear regresion running"
   ]
  },
  {
   "cell_type": "code",
   "execution_count": 119,
   "id": "c7f92344",
   "metadata": {},
   "outputs": [
    {
     "data": {
      "text/plain": [
       "0.34"
      ]
     },
     "execution_count": 119,
     "metadata": {},
     "output_type": "execute_result"
    }
   ],
   "source": [
    "#zeros\n",
    "\n",
    "x_train_zeros =  prepare_X_fill_0(df_train)\n",
    "w_0, w = train_linear_regression(x_train_zeros, y_train)\n",
    "\n",
    "\n",
    "x_val_zeros = prepare_X_fill_0(df_val)\n",
    "\n",
    "y_pred = w_0 + x_val_zeros.dot(w)\n",
    "\n",
    "round(rmse(y_val, y_pred),2)"
   ]
  },
  {
   "cell_type": "code",
   "execution_count": 117,
   "id": "d5772634",
   "metadata": {},
   "outputs": [
    {
     "data": {
      "text/plain": [
       "0.34"
      ]
     },
     "execution_count": 117,
     "metadata": {},
     "output_type": "execute_result"
    }
   ],
   "source": [
    "#mean\n",
    "\n",
    "x_train_mean =  prepare_X_fill_mean(df_train)\n",
    "w_0, w = train_linear_regression(x_train_mean, y_train)\n",
    "\n",
    "\n",
    "x_val_zeros = prepare_X_fill_0(df_val)\n",
    "\n",
    "y_pred = w_0 + x_val_zeros.dot(w)\n",
    "\n",
    "round(rmse(y_val, y_pred),2)"
   ]
  },
  {
   "cell_type": "markdown",
   "id": "9139d21c",
   "metadata": {},
   "source": [
    "Both are equally good"
   ]
  },
  {
   "cell_type": "markdown",
   "id": "09437bb0",
   "metadata": {},
   "source": [
    "### Question 4"
   ]
  },
  {
   "cell_type": "code",
   "execution_count": 122,
   "id": "9cef5fc7",
   "metadata": {},
   "outputs": [],
   "source": [
    "def train_linear_regression_reg(X, y, r=0.0):\n",
    "    ones = np.ones(X.shape[0])\n",
    "    X = np.column_stack([ones, X])\n",
    "\n",
    "    XTX = X.T.dot(X)\n",
    "    reg = r * np.eye(XTX.shape[0])\n",
    "    XTX = XTX + reg\n",
    "\n",
    "    XTX_inv = np.linalg.inv(XTX)\n",
    "    w = XTX_inv.dot(X.T).dot(y)\n",
    "    \n",
    "    return w[0], w[1:]"
   ]
  },
  {
   "cell_type": "code",
   "execution_count": 129,
   "id": "76578269",
   "metadata": {},
   "outputs": [
    {
     "name": "stdout",
     "output_type": "stream",
     "text": [
      "     0,0.34\n",
      " 1e-06,0.34\n",
      "0.0001,0.34\n",
      " 0.001,0.34\n",
      "  0.01,0.34\n",
      "   0.1,0.34\n",
      "     1,0.34\n",
      "     5,0.35\n",
      "    10,0.35\n"
     ]
    }
   ],
   "source": [
    "for r in [0, 0.000001, 0.0001, 0.001, 0.01, 0.1, 1, 5, 10]:\n",
    "    w_0, w = train_linear_regression_reg(x_train_zeros, y_train, r=r)\n",
    "    y_pred = w_0 + x_val_zeros.dot(w)\n",
    "    print('%6s,%.2f' % (r, rmse(y_val, y_pred))) # El menor es 0"
   ]
  },
  {
   "cell_type": "markdown",
   "id": "fc0e48fa",
   "metadata": {},
   "source": [
    "The best is just 0 meaning, using not regularization"
   ]
  },
  {
   "cell_type": "markdown",
   "id": "dbabcbbc",
   "metadata": {},
   "source": [
    "### Question 5"
   ]
  },
  {
   "cell_type": "code",
   "execution_count": 133,
   "id": "13db7281",
   "metadata": {},
   "outputs": [],
   "source": [
    "rmse_resultantes = []"
   ]
  },
  {
   "cell_type": "code",
   "execution_count": 134,
   "id": "8ecbcbf2",
   "metadata": {},
   "outputs": [],
   "source": [
    "for seed in [0, 1, 2, 3, 4, 5, 6, 7, 8, 9]:\n",
    "    np.random.seed(seed)\n",
    "    idx = np.arange(n)\n",
    "    np.random.shuffle(idx)\n",
    "    df_shuffled = df2.iloc[idx]\n",
    "\n",
    "    df_train = df_shuffled.iloc[:n_train].copy()  \n",
    "    df_val = df_shuffled.iloc[n_train:n_train+n_val].copy()\n",
    "    df_test = df_shuffled.iloc[n_train+n_val:].copy()\n",
    "    \n",
    "    y_train = np.log1p(df_train.median_house_value.values)\n",
    "    y_val = np.log1p(df_val.median_house_value.values)\n",
    "    y_test = np.log1p(df_test.median_house_value.values)\n",
    "\n",
    "    del df_train['median_house_value'] \n",
    "    del df_val['median_house_value']\n",
    "    del df_test['median_house_value']\n",
    "    \n",
    "    x_train_zeros =  prepare_X_fill_0(df_train)\n",
    "    w_0, w = train_linear_regression(x_train_zeros, y_train)\n",
    "    x_val_zeros = prepare_X_fill_0(df_val)\n",
    "\n",
    "    y_pred = w_0 + x_val_zeros.dot(w)\n",
    "    \n",
    "    rmse_resultantes.append(rmse(y_val, y_pred))\n",
    "   \n"
   ]
  },
  {
   "cell_type": "code",
   "execution_count": 136,
   "id": "350b18b9",
   "metadata": {},
   "outputs": [
    {
     "data": {
      "text/plain": [
       "0.005"
      ]
     },
     "execution_count": 136,
     "metadata": {},
     "output_type": "execute_result"
    }
   ],
   "source": [
    "round(np.std(np.array(rmse_resultantes)),3)"
   ]
  },
  {
   "cell_type": "markdown",
   "id": "3622ff03",
   "metadata": {},
   "source": [
    "### Question 6"
   ]
  },
  {
   "cell_type": "code",
   "execution_count": 141,
   "id": "d9aa2d72",
   "metadata": {},
   "outputs": [],
   "source": [
    "np.random.seed(9)\n",
    "idx = np.arange(n)\n",
    "np.random.shuffle(idx)\n",
    "df_shuffled = df2.iloc[idx]\n",
    "\n",
    "df_train = df_shuffled.iloc[:n_train].copy()  \n",
    "df_val = df_shuffled.iloc[n_train:n_train+n_val].copy()\n",
    "df_test = df_shuffled.iloc[n_train+n_val:].copy()\n",
    "\n",
    "y_train = np.log1p(df_train.median_house_value.values)\n",
    "y_val = np.log1p(df_val.median_house_value.values)\n",
    "y_test = np.log1p(df_test.median_house_value.values)\n",
    "\n",
    "del df_train['median_house_value'] \n",
    "del df_val['median_house_value']\n",
    "del df_test['median_house_value']\n",
    "\n",
    "df_big_train = pd.concat([df_train,df_val])\n",
    "y_big_train = np.concatenate([y_train,y_val])\n"
   ]
  },
  {
   "cell_type": "code",
   "execution_count": 142,
   "id": "c23f339e",
   "metadata": {},
   "outputs": [
    {
     "data": {
      "text/plain": [
       "0.33"
      ]
     },
     "execution_count": 142,
     "metadata": {},
     "output_type": "execute_result"
    }
   ],
   "source": [
    "x_big_train =  prepare_X_fill_0(df_big_train)\n",
    "w_0, w = train_linear_regression_reg(x_train_zeros, y_train, r=0.001)\n",
    "\n",
    "x_test = prepare_X_fill_0(df_test)\n",
    "\n",
    "y_pred = w_0 + x_test.dot(w)\n",
    "\n",
    "round(rmse(y_test, y_pred),2)"
   ]
  },
  {
   "cell_type": "markdown",
   "id": "4651f0e0",
   "metadata": {},
   "source": [
    "### Extra: Traing to put together normal distribution and our distribution (did not work)"
   ]
  },
  {
   "cell_type": "code",
   "execution_count": 34,
   "id": "0ea2603c",
   "metadata": {},
   "outputs": [
    {
     "data": {
      "image/png": "[encoded data removed]",
      "text/plain": [
       "<Figure size 640x480 with 1 Axes>"
      ]
     },
     "metadata": {},
     "output_type": "display_data"
    }
   ],
   "source": [
    "# Create a gaussian distribution-\n",
    "x = np.random.normal(loc = 40000, scale = 2.0, size = 26000)\n",
    "\n",
    "\n",
    "# Compare the distributions using 'histplot()' in seaborn with different bin sizes for x & y-\n",
    "sns.histplot(data = x, bins = 40, label = 'normal dist')\n",
    "sns.histplot(df.median_house_value , bins=40, color='black', alpha=1,label=\"median house values\")\n",
    "plt.ylabel('Frequency')\n",
    "plt.xlabel('Price')\n",
    "plt.title('Distribution of prices')\n",
    "\n",
    "plt.show()"
   ]
  },
  {
   "cell_type": "code",
   "execution_count": 33,
   "id": "dbf4d343",
   "metadata": {},
   "outputs": [
    {
     "data": {
      "image/png": "[encoded data removed]",
      "text/plain": [
       "<Figure size 640x480 with 1 Axes>"
      ]
     },
     "metadata": {},
     "output_type": "display_data"
    }
   ],
   "source": [
    "x = np.random.normal(loc = 50000, scale = 2.0, size = 26000)\n",
    "sns.histplot(data = x, bins = 40, label = 'normal dist')\n",
    "plt.ylabel('Frequency')\n",
    "plt.xlabel('Price')\n",
    "plt.title('Distribution of prices')\n",
    "\n",
    "plt.show()"
   ]
  }
 ],
 "metadata": {
  "kernelspec": {
   "display_name": "Python 3 (ipykernel)",
   "language": "python",
   "name": "python3"
  },
  "language_info": {
   "codemirror_mode": {
    "name": "ipython",
    "version": 3
   },
   "file_extension": ".py",
   "mimetype": "text/x-python",
   "name": "python",
   "nbconvert_exporter": "python",
   "pygments_lexer": "ipython3",
   "version": "3.11.4"
  }
 },
 "nbformat": 4,
 "nbformat_minor": 5
}
